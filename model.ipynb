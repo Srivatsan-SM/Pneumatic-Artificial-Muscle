{
 "cells": [
  {
   "cell_type": "code",
   "execution_count": 1,
   "id": "80ba60fa",
   "metadata": {},
   "outputs": [
    {
     "name": "stdout",
     "output_type": "stream",
     "text": [
      "Test Accuracy: 0.10956973326399289\n"
     ]
    },
    {
     "data": {
      "text/plain": [
       "['pam_gesture_model.pkl']"
      ]
     },
     "execution_count": 1,
     "metadata": {},
     "output_type": "execute_result"
    }
   ],
   "source": [
    "import pandas as pd\n",
    "from sklearn.model_selection import train_test_split\n",
    "from sklearn.tree import DecisionTreeClassifier\n",
    "import joblib\n",
    "\n",
    "# Load dataset\n",
    "df = pd.read_csv(\"smart_prosthetic_dataset.csv\")\n",
    "\n",
    "# Select features and target\n",
    "features = [\"EMG (mV)\", \"Accel_X\", \"Accel_Y\", \"Accel_Z\", \"Gyro_X\", \"Gyro_Y\", \"Gyro_Z\"]\n",
    "X = df[features]\n",
    "y = df[\"Label (Gesture)\"]\n",
    "\n",
    "# Train-test split\n",
    "X_train, X_test, y_train, y_test = train_test_split(X, y, test_size=0.2, random_state=42)\n",
    "\n",
    "# Train model\n",
    "from sklearn.tree import DecisionTreeRegressor\n",
    "\n",
    "# Train model\n",
    "clf = DecisionTreeRegressor(max_depth=5, random_state=42)\n",
    "clf.fit(X_train, y_train)\n",
    "\n",
    "# Accuracy (you might want to evaluate using R^2 or other regression metrics)\n",
    "print(\"Test Accuracy:\", clf.score(X_test, y_test))\n",
    "\n",
    "# Save model\n",
    "joblib.dump(clf, \"pam_gesture_model.pkl\")"
   ]
  }
 ],
 "metadata": {
  "kernelspec": {
   "display_name": "base",
   "language": "python",
   "name": "python3"
  },
  "language_info": {
   "codemirror_mode": {
    "name": "ipython",
    "version": 3
   },
   "file_extension": ".py",
   "mimetype": "text/x-python",
   "name": "python",
   "nbconvert_exporter": "python",
   "pygments_lexer": "ipython3",
   "version": "3.12.7"
  }
 },
 "nbformat": 4,
 "nbformat_minor": 5
}
